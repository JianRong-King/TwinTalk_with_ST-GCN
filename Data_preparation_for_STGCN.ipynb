{
 "cells": [
  {
   "cell_type": "markdown",
   "metadata": {},
   "source": [
    "<div style=\"background-color:rgb(0, 55, 207); padding: 30px; border-radius: 20px; box-shadow: 0 4px 15px rgba(105, 195, 255, 0.3); color:rgb(187, 201, 248); font-family: 'Times New Roman', serif;\">\n",
    "\n",
    "<h1 style=\"text-align: center; font-size: 38px; color: white; font-weight: bold;\">ST-GCN Data Prepration</h1>"
   ]
  },
  {
   "cell_type": "markdown",
   "metadata": {},
   "source": [
    "<h3 style=\"font-size: 22px; color: white; font-weight: bold;\">Libraries</h3>"
   ]
  },
  {
   "cell_type": "code",
   "execution_count": null,
   "metadata": {},
   "outputs": [],
   "source": [
    "import os\n",
    "import numpy as np\n",
    "import pickle\n",
    "from sklearn.model_selection import train_test_split"
   ]
  },
  {
   "cell_type": "markdown",
   "metadata": {},
   "source": [
    "<h3 style=\"font-size: 22px; color: white; font-weight: bold;\">Configuration</h3>"
   ]
  },
  {
   "cell_type": "code",
   "execution_count": null,
   "metadata": {},
   "outputs": [],
   "source": [
    "DATA_DIR = r\"DIRECTORY_WHEREYOUR_NUMPY_FILES\"\n",
    "LABEL_FILE = r\"YOUR_LABELS_FILE.TXT\"\n",
    "OUTPUT_DIR = './data/mediapipe_asl'\n",
    "TEST_SIZE = 0.2     # 80% train, 20% test"
   ]
  },
  {
   "cell_type": "markdown",
   "metadata": {},
   "source": [
    "<h3 style=\"font-size: 22px; color: white; font-weight: bold;\">Load Labels</h3>"
   ]
  },
  {
   "cell_type": "code",
   "execution_count": null,
   "metadata": {},
   "outputs": [],
   "source": [
    "samples = []\n",
    "labels = []\n",
    "\n",
    "with open(os.path.join(DATA_DIR, LABEL_FILE), 'r') as f:\n",
    "    for line in f:\n",
    "        name, label = line.strip().split()\n",
    "        path = os.path.join(DATA_DIR, name)\n",
    "        if os.path.exists(path):\n",
    "            samples.append(path)\n",
    "            labels.append(label)\n",
    "        else:\n",
    "            print(f\"⚠️ Missing file: {path}\")"
   ]
  },
  {
   "cell_type": "markdown",
   "metadata": {},
   "source": [
    "<h3 style=\"font-size: 22px; color: white; font-weight: bold;\">Map Labels</h3>"
   ]
  },
  {
   "cell_type": "code",
   "execution_count": null,
   "metadata": {},
   "outputs": [],
   "source": [
    "unique_labels = sorted(set(labels))\n",
    "label_to_index = {label: idx for idx, label in enumerate(unique_labels)}\n",
    "index_to_label = {idx: label for label, idx in label_to_index.items()}\n",
    "int_labels = [label_to_index[label] for label in labels]"
   ]
  },
  {
   "cell_type": "markdown",
   "metadata": {},
   "source": [
    "<h3 style=\"font-size: 22px; color: white; font-weight: bold;\">Split Data</h3>"
   ]
  },
  {
   "cell_type": "code",
   "execution_count": null,
   "metadata": {},
   "outputs": [],
   "source": [
    "train_paths, test_paths, train_labels, test_labels = train_test_split(\n",
    "    samples, int_labels, test_size=TEST_SIZE, stratify=int_labels, random_state=42\n",
    ")\n",
    "\n",
    "def load_data(paths):\n",
    "    return np.array([np.load(p) for p in paths])"
   ]
  },
  {
   "cell_type": "markdown",
   "metadata": {},
   "source": [
    "<h3 style=\"font-size: 22px; color: white; font-weight: bold;\">Save Data</h3>"
   ]
  },
  {
   "cell_type": "code",
   "execution_count": null,
   "metadata": {},
   "outputs": [],
   "source": [
    "os.makedirs(OUTPUT_DIR, exist_ok=True)\n",
    "\n",
    "np.save(os.path.join(OUTPUT_DIR, 'train_data.npy'), load_data(train_paths))\n",
    "np.save(os.path.join(OUTPUT_DIR, 'val_data.npy'), load_data(test_paths))\n",
    "\n",
    "with open(os.path.join(OUTPUT_DIR, 'train_label.pkl'), 'wb') as f:\n",
    "    pickle.dump(([os.path.basename(p) for p in train_paths], train_labels), f)\n",
    "\n",
    "with open(os.path.join(OUTPUT_DIR, 'val_label.pkl'), 'wb') as f:\n",
    "    pickle.dump(([os.path.basename(p) for p in test_paths], test_labels), f)\n",
    "\n",
    "# === OPTIONAL: Save label mappings for later decoding ===\n",
    "with open(os.path.join(OUTPUT_DIR, 'label_mapping.pkl'), 'wb') as f:\n",
    "    pickle.dump({'label_to_index': label_to_index, 'index_to_label': index_to_label}, f)\n",
    "\n",
    "print(f\"✅ Done! Saved to {OUTPUT_DIR}\")"
   ]
  }
 ],
 "metadata": {
  "kernelspec": {
   "display_name": "GP",
   "language": "python",
   "name": "python3"
  },
  "language_info": {
   "codemirror_mode": {
    "name": "ipython",
    "version": 3
   },
   "file_extension": ".py",
   "mimetype": "text/x-python",
   "name": "python",
   "nbconvert_exporter": "python",
   "pygments_lexer": "ipython3",
   "version": "3.9.21"
  }
 },
 "nbformat": 4,
 "nbformat_minor": 2
}
